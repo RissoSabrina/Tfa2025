{
  "nbformat": 4,
  "nbformat_minor": 0,
  "metadata": {
    "colab": {
      "provenance": []
    },
    "kernelspec": {
      "name": "python3",
      "display_name": "Python 3"
    },
    "language_info": {
      "name": "python"
    },
    "widgets": {
      "application/vnd.jupyter.widget-state+json": {
        "f06435bba3244f19ab23385b156818b5": {
          "model_module": "@jupyter-widgets/controls",
          "model_name": "RadioButtonsModel",
          "model_module_version": "1.5.0",
          "state": {
            "_dom_classes": [],
            "_model_module": "@jupyter-widgets/controls",
            "_model_module_version": "1.5.0",
            "_model_name": "RadioButtonsModel",
            "_options_labels": [
              "1. Nel 1500",
              "2. Nel 1700",
              "3. Nel 1900"
            ],
            "_view_count": null,
            "_view_module": "@jupyter-widgets/controls",
            "_view_module_version": "1.5.0",
            "_view_name": "RadioButtonsView",
            "description": "Risposta:",
            "description_tooltip": null,
            "disabled": false,
            "index": 0,
            "layout": "IPY_MODEL_5269fde460fe4715a24c98ce8ef63020",
            "style": "IPY_MODEL_3de202b74bb440d5ac6b0b4e8ceac656"
          }
        },
        "5269fde460fe4715a24c98ce8ef63020": {
          "model_module": "@jupyter-widgets/base",
          "model_name": "LayoutModel",
          "model_module_version": "1.2.0",
          "state": {
            "_model_module": "@jupyter-widgets/base",
            "_model_module_version": "1.2.0",
            "_model_name": "LayoutModel",
            "_view_count": null,
            "_view_module": "@jupyter-widgets/base",
            "_view_module_version": "1.2.0",
            "_view_name": "LayoutView",
            "align_content": null,
            "align_items": null,
            "align_self": null,
            "border": null,
            "bottom": null,
            "display": null,
            "flex": null,
            "flex_flow": null,
            "grid_area": null,
            "grid_auto_columns": null,
            "grid_auto_flow": null,
            "grid_auto_rows": null,
            "grid_column": null,
            "grid_gap": null,
            "grid_row": null,
            "grid_template_areas": null,
            "grid_template_columns": null,
            "grid_template_rows": null,
            "height": null,
            "justify_content": null,
            "justify_items": null,
            "left": null,
            "margin": null,
            "max_height": null,
            "max_width": null,
            "min_height": null,
            "min_width": null,
            "object_fit": null,
            "object_position": null,
            "order": null,
            "overflow": null,
            "overflow_x": null,
            "overflow_y": null,
            "padding": null,
            "right": null,
            "top": null,
            "visibility": null,
            "width": null
          }
        },
        "3de202b74bb440d5ac6b0b4e8ceac656": {
          "model_module": "@jupyter-widgets/controls",
          "model_name": "DescriptionStyleModel",
          "model_module_version": "1.5.0",
          "state": {
            "_model_module": "@jupyter-widgets/controls",
            "_model_module_version": "1.5.0",
            "_model_name": "DescriptionStyleModel",
            "_view_count": null,
            "_view_module": "@jupyter-widgets/base",
            "_view_module_version": "1.2.0",
            "_view_name": "StyleView",
            "description_width": ""
          }
        },
        "dc4e3216abeb47b3a438b167396b4abe": {
          "model_module": "@jupyter-widgets/controls",
          "model_name": "ButtonModel",
          "model_module_version": "1.5.0",
          "state": {
            "_dom_classes": [],
            "_model_module": "@jupyter-widgets/controls",
            "_model_module_version": "1.5.0",
            "_model_name": "ButtonModel",
            "_view_count": null,
            "_view_module": "@jupyter-widgets/controls",
            "_view_module_version": "1.5.0",
            "_view_name": "ButtonView",
            "button_style": "success",
            "description": "Verifica risposta",
            "disabled": false,
            "icon": "",
            "layout": "IPY_MODEL_8414bfca688e4e0ea41a14badefc3642",
            "style": "IPY_MODEL_3818837dc13b4e19a9cd6158076426a7",
            "tooltip": ""
          }
        },
        "8414bfca688e4e0ea41a14badefc3642": {
          "model_module": "@jupyter-widgets/base",
          "model_name": "LayoutModel",
          "model_module_version": "1.2.0",
          "state": {
            "_model_module": "@jupyter-widgets/base",
            "_model_module_version": "1.2.0",
            "_model_name": "LayoutModel",
            "_view_count": null,
            "_view_module": "@jupyter-widgets/base",
            "_view_module_version": "1.2.0",
            "_view_name": "LayoutView",
            "align_content": null,
            "align_items": null,
            "align_self": null,
            "border": null,
            "bottom": null,
            "display": null,
            "flex": null,
            "flex_flow": null,
            "grid_area": null,
            "grid_auto_columns": null,
            "grid_auto_flow": null,
            "grid_auto_rows": null,
            "grid_column": null,
            "grid_gap": null,
            "grid_row": null,
            "grid_template_areas": null,
            "grid_template_columns": null,
            "grid_template_rows": null,
            "height": null,
            "justify_content": null,
            "justify_items": null,
            "left": null,
            "margin": null,
            "max_height": null,
            "max_width": null,
            "min_height": null,
            "min_width": null,
            "object_fit": null,
            "object_position": null,
            "order": null,
            "overflow": null,
            "overflow_x": null,
            "overflow_y": null,
            "padding": null,
            "right": null,
            "top": null,
            "visibility": null,
            "width": null
          }
        },
        "3818837dc13b4e19a9cd6158076426a7": {
          "model_module": "@jupyter-widgets/controls",
          "model_name": "ButtonStyleModel",
          "model_module_version": "1.5.0",
          "state": {
            "_model_module": "@jupyter-widgets/controls",
            "_model_module_version": "1.5.0",
            "_model_name": "ButtonStyleModel",
            "_view_count": null,
            "_view_module": "@jupyter-widgets/base",
            "_view_module_version": "1.2.0",
            "_view_name": "StyleView",
            "button_color": null,
            "font_weight": ""
          }
        },
        "bd305f2c505f4691be751b5c023f5602": {
          "model_module": "@jupyter-widgets/output",
          "model_name": "OutputModel",
          "model_module_version": "1.0.0",
          "state": {
            "_dom_classes": [],
            "_model_module": "@jupyter-widgets/output",
            "_model_module_version": "1.0.0",
            "_model_name": "OutputModel",
            "_view_count": null,
            "_view_module": "@jupyter-widgets/output",
            "_view_module_version": "1.0.0",
            "_view_name": "OutputView",
            "layout": "IPY_MODEL_8eaf4aa98bd94edcbfe0533f68d856c4",
            "msg_id": "",
            "outputs": []
          }
        },
        "8eaf4aa98bd94edcbfe0533f68d856c4": {
          "model_module": "@jupyter-widgets/base",
          "model_name": "LayoutModel",
          "model_module_version": "1.2.0",
          "state": {
            "_model_module": "@jupyter-widgets/base",
            "_model_module_version": "1.2.0",
            "_model_name": "LayoutModel",
            "_view_count": null,
            "_view_module": "@jupyter-widgets/base",
            "_view_module_version": "1.2.0",
            "_view_name": "LayoutView",
            "align_content": null,
            "align_items": null,
            "align_self": null,
            "border": null,
            "bottom": null,
            "display": null,
            "flex": null,
            "flex_flow": null,
            "grid_area": null,
            "grid_auto_columns": null,
            "grid_auto_flow": null,
            "grid_auto_rows": null,
            "grid_column": null,
            "grid_gap": null,
            "grid_row": null,
            "grid_template_areas": null,
            "grid_template_columns": null,
            "grid_template_rows": null,
            "height": null,
            "justify_content": null,
            "justify_items": null,
            "left": null,
            "margin": null,
            "max_height": null,
            "max_width": null,
            "min_height": null,
            "min_width": null,
            "object_fit": null,
            "object_position": null,
            "order": null,
            "overflow": null,
            "overflow_x": null,
            "overflow_y": null,
            "padding": null,
            "right": null,
            "top": null,
            "visibility": null,
            "width": null
          }
        }
      }
    }
  },
  "cells": [
    {
      "cell_type": "code",
      "source": [
        "# 📘 Google Colab - Lezione interattiva: Rivoluzione Industriale (per studente stile uditivo)\n",
        "\n",
        "# ✅ Sezione 1: Setup\n",
        "# Utilizzeremo un'alternativa testuale all'audio per evitare problemi di connessione con servizi esterni.\n",
        "\n",
        "from IPython.display import display, HTML\n",
        "import ipywidgets as widgets\n",
        "\n",
        "# ✅ Funzione: mostra box visivo per l'alunno\n",
        "def mostra_box(titolo, testo):\n",
        "    display(HTML(f'''\n",
        "    <div style=\"background-color:#e6f2ff; padding:15px; border-radius:10px;\">\n",
        "      <h3 style=\"color:#1a73e8;\">{titolo}</h3>\n",
        "      <p style=\"font-size:18px;\">{testo}</p>\n",
        "    </div>\n",
        "    '''))\n",
        "\n",
        "# ✅ Funzione: suggerimento \"auditivo\"\n",
        "def suggerimento_uditivo(testo):\n",
        "    display(HTML(f'''\n",
        "    <div style=\"background-color:#fff3cd; padding:10px; border-left: 6px solid #ffeb3b; margin-top:10px;\">\n",
        "      <strong>💡 Suggerimento uditivo:</strong> Prova a leggere ad alta voce o ascoltare questa parte con una sintesi vocale del tuo dispositivo.\n",
        "      <br><em>{testo}</em>\n",
        "    </div>\n",
        "    '''))\n",
        "\n",
        "# ✅ Introduzione\n",
        "introduzione = \"\"\"\n",
        "La Rivoluzione Industriale è un periodo storico in cui le macchine iniziano a sostituire il lavoro manuale.\n",
        "Inizia in Inghilterra alla fine del 1700 e cambia per sempre il modo di vivere e lavorare.\n",
        "\"\"\"\n",
        "\n",
        "mostra_box(\"🔧 Cos'è la Rivoluzione Industriale?\", introduzione)\n",
        "suggerimento_uditivo(introduzione)\n",
        "\n",
        "# ✅ Sezione 2: Parole chiave\n",
        "parole_chiave = \"\"\"\n",
        "- Fabbrica: luogo dove si producono oggetti in grandi quantità.\n",
        "- Macchina a vapore: una delle invenzioni più importanti del periodo.\n",
        "- Urbanizzazione: le persone si spostano dalla campagna alla città per lavorare.\n",
        "\"\"\"\n",
        "\n",
        "mostra_box(\"🔑 Parole Chiave\", parole_chiave)\n",
        "suggerimento_uditivo(parole_chiave)\n",
        "\n",
        "# ✅ Sezione 3: Quiz interattivo con pulsanti\n",
        "mostra_box(\"🎓 Quiz\", \"Quando è iniziata la Rivoluzione Industriale?\")\n",
        "scelte = [\"1. Nel 1500\", \"2. Nel 1700\", \"3. Nel 1900\"]\n",
        "risposte = widgets.RadioButtons(options=scelte, description='Risposta:')\n",
        "bottone = widgets.Button(description=\"Verifica risposta\", button_style='success')\n",
        "output = widgets.Output()\n",
        "\n",
        "# Funzione di controllo\n",
        "\n",
        "def controlla_risposta(b):\n",
        "    output.clear_output()\n",
        "    with output:\n",
        "        scelta = risposte.value\n",
        "        if scelta.startswith(\"2\"):\n",
        "            messaggio = \"Hai risposto correttamente: la Rivoluzione Industriale è iniziata nel 1700.\"\n",
        "            mostra_box(\"✅ Bravo!\", messaggio)\n",
        "            suggerimento_uditivo(messaggio)\n",
        "        else:\n",
        "            messaggio = \"La risposta corretta è: nel 1700.\"\n",
        "            mostra_box(\"❌ Riprova\", messaggio)\n",
        "            suggerimento_uditivo(messaggio)\n",
        "\n",
        "bottone.on_click(controlla_risposta)\n",
        "display(risposte, bottone, output)\n",
        "\n",
        "# ✅ Sezione 4: Curiosità\n",
        "curiosita = \"\"\"\n",
        "Le prime fabbriche producevano tessuti e usavano acqua o vapore per far funzionare le macchine.\n",
        "Molti bambini lavoravano nelle fabbriche, spesso in condizioni difficili.\n",
        "\"\"\"\n",
        "mostra_box(\"🤔 Lo sapevi che...?\", curiosita)\n",
        "suggerimento_uditivo(curiosita)\n"
      ],
      "metadata": {
        "id": "IttKyeB0tAry",
        "outputId": "3edca603-5549-479d-8bbc-b70b92ec424a",
        "colab": {
          "base_uri": "https://localhost:8080/",
          "height": 770,
          "referenced_widgets": [
            "f06435bba3244f19ab23385b156818b5",
            "5269fde460fe4715a24c98ce8ef63020",
            "3de202b74bb440d5ac6b0b4e8ceac656",
            "dc4e3216abeb47b3a438b167396b4abe",
            "8414bfca688e4e0ea41a14badefc3642",
            "3818837dc13b4e19a9cd6158076426a7",
            "bd305f2c505f4691be751b5c023f5602",
            "8eaf4aa98bd94edcbfe0533f68d856c4"
          ]
        }
      },
      "execution_count": 9,
      "outputs": [
        {
          "output_type": "display_data",
          "data": {
            "text/plain": [
              "<IPython.core.display.HTML object>"
            ],
            "text/html": [
              "\n",
              "    <div style=\"background-color:#e6f2ff; padding:15px; border-radius:10px;\">\n",
              "      <h3 style=\"color:#1a73e8;\">🔧 Cos'è la Rivoluzione Industriale?</h3>\n",
              "      <p style=\"font-size:18px;\">\n",
              "La Rivoluzione Industriale è un periodo storico in cui le macchine iniziano a sostituire il lavoro manuale.\n",
              "Inizia in Inghilterra alla fine del 1700 e cambia per sempre il modo di vivere e lavorare.\n",
              "</p>\n",
              "    </div>\n",
              "    "
            ]
          },
          "metadata": {}
        },
        {
          "output_type": "display_data",
          "data": {
            "text/plain": [
              "<IPython.core.display.HTML object>"
            ],
            "text/html": [
              "\n",
              "    <div style=\"background-color:#fff3cd; padding:10px; border-left: 6px solid #ffeb3b; margin-top:10px;\">\n",
              "      <strong>💡 Suggerimento uditivo:</strong> Prova a leggere ad alta voce o ascoltare questa parte con una sintesi vocale del tuo dispositivo.\n",
              "      <br><em>\n",
              "La Rivoluzione Industriale è un periodo storico in cui le macchine iniziano a sostituire il lavoro manuale.\n",
              "Inizia in Inghilterra alla fine del 1700 e cambia per sempre il modo di vivere e lavorare.\n",
              "</em>\n",
              "    </div>\n",
              "    "
            ]
          },
          "metadata": {}
        },
        {
          "output_type": "display_data",
          "data": {
            "text/plain": [
              "<IPython.core.display.HTML object>"
            ],
            "text/html": [
              "\n",
              "    <div style=\"background-color:#e6f2ff; padding:15px; border-radius:10px;\">\n",
              "      <h3 style=\"color:#1a73e8;\">🔑 Parole Chiave</h3>\n",
              "      <p style=\"font-size:18px;\">\n",
              "- Fabbrica: luogo dove si producono oggetti in grandi quantità.\n",
              "- Macchina a vapore: una delle invenzioni più importanti del periodo.\n",
              "- Urbanizzazione: le persone si spostano dalla campagna alla città per lavorare.\n",
              "</p>\n",
              "    </div>\n",
              "    "
            ]
          },
          "metadata": {}
        },
        {
          "output_type": "display_data",
          "data": {
            "text/plain": [
              "<IPython.core.display.HTML object>"
            ],
            "text/html": [
              "\n",
              "    <div style=\"background-color:#fff3cd; padding:10px; border-left: 6px solid #ffeb3b; margin-top:10px;\">\n",
              "      <strong>💡 Suggerimento uditivo:</strong> Prova a leggere ad alta voce o ascoltare questa parte con una sintesi vocale del tuo dispositivo.\n",
              "      <br><em>\n",
              "- Fabbrica: luogo dove si producono oggetti in grandi quantità.\n",
              "- Macchina a vapore: una delle invenzioni più importanti del periodo.\n",
              "- Urbanizzazione: le persone si spostano dalla campagna alla città per lavorare.\n",
              "</em>\n",
              "    </div>\n",
              "    "
            ]
          },
          "metadata": {}
        },
        {
          "output_type": "display_data",
          "data": {
            "text/plain": [
              "<IPython.core.display.HTML object>"
            ],
            "text/html": [
              "\n",
              "    <div style=\"background-color:#e6f2ff; padding:15px; border-radius:10px;\">\n",
              "      <h3 style=\"color:#1a73e8;\">🎓 Quiz</h3>\n",
              "      <p style=\"font-size:18px;\">Quando è iniziata la Rivoluzione Industriale?</p>\n",
              "    </div>\n",
              "    "
            ]
          },
          "metadata": {}
        },
        {
          "output_type": "display_data",
          "data": {
            "text/plain": [
              "RadioButtons(description='Risposta:', options=('1. Nel 1500', '2. Nel 1700', '3. Nel 1900'), value='1. Nel 150…"
            ],
            "application/vnd.jupyter.widget-view+json": {
              "version_major": 2,
              "version_minor": 0,
              "model_id": "f06435bba3244f19ab23385b156818b5"
            }
          },
          "metadata": {}
        },
        {
          "output_type": "display_data",
          "data": {
            "text/plain": [
              "Button(button_style='success', description='Verifica risposta', style=ButtonStyle())"
            ],
            "application/vnd.jupyter.widget-view+json": {
              "version_major": 2,
              "version_minor": 0,
              "model_id": "dc4e3216abeb47b3a438b167396b4abe"
            }
          },
          "metadata": {}
        },
        {
          "output_type": "display_data",
          "data": {
            "text/plain": [
              "Output()"
            ],
            "application/vnd.jupyter.widget-view+json": {
              "version_major": 2,
              "version_minor": 0,
              "model_id": "bd305f2c505f4691be751b5c023f5602"
            }
          },
          "metadata": {}
        },
        {
          "output_type": "display_data",
          "data": {
            "text/plain": [
              "<IPython.core.display.HTML object>"
            ],
            "text/html": [
              "\n",
              "    <div style=\"background-color:#e6f2ff; padding:15px; border-radius:10px;\">\n",
              "      <h3 style=\"color:#1a73e8;\">🤔 Lo sapevi che...?</h3>\n",
              "      <p style=\"font-size:18px;\">\n",
              "Le prime fabbriche producevano tessuti e usavano acqua o vapore per far funzionare le macchine.\n",
              "Molti bambini lavoravano nelle fabbriche, spesso in condizioni difficili.\n",
              "</p>\n",
              "    </div>\n",
              "    "
            ]
          },
          "metadata": {}
        },
        {
          "output_type": "display_data",
          "data": {
            "text/plain": [
              "<IPython.core.display.HTML object>"
            ],
            "text/html": [
              "\n",
              "    <div style=\"background-color:#fff3cd; padding:10px; border-left: 6px solid #ffeb3b; margin-top:10px;\">\n",
              "      <strong>💡 Suggerimento uditivo:</strong> Prova a leggere ad alta voce o ascoltare questa parte con una sintesi vocale del tuo dispositivo.\n",
              "      <br><em>\n",
              "Le prime fabbriche producevano tessuti e usavano acqua o vapore per far funzionare le macchine.\n",
              "Molti bambini lavoravano nelle fabbriche, spesso in condizioni difficili.\n",
              "</em>\n",
              "    </div>\n",
              "    "
            ]
          },
          "metadata": {}
        }
      ]
    }
  ]
}